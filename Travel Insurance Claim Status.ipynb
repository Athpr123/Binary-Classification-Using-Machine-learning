{
 "cells": [
  {
   "cell_type": "markdown",
   "metadata": {},
   "source": [
    "# Importing Libraries."
   ]
  },
  {
   "cell_type": "code",
   "execution_count": 60,
   "metadata": {},
   "outputs": [],
   "source": [
    "#import libraries\n",
    "import pandas as pd\n",
    "import numpy as np\n",
    "\n",
    "#importing liabraries for graphical representation\n",
    "import matplotlib.pyplot as plt\n",
    "import seaborn as sns\n",
    "from pandas.plotting import scatter_matrix\n",
    "import matplotlib.patches as mpatches\n",
    "from matplotlib import rcParams\n",
    "from matplotlib.cm import rainbow\n",
    "%matplotlib inline\n",
    "\n",
    "#Packages for feature engineering\n",
    "from sklearn.model_selection import train_test_split, StratifiedKFold,cross_val_score\n",
    "from sklearn.linear_model import LogisticRegression, SGDClassifier\n",
    "from sklearn.tree import DecisionTreeClassifier\n",
    "from sklearn.ensemble import RandomForestClassifier, AdaBoostClassifier\n",
    "from statsmodels.tools.eval_measures import rmse\n",
    "from scipy import stats\n",
    "from sklearn.metrics import classification_report, accuracy_score, confusion_matrix\n",
    "import statsmodels.api as sm\n",
    "from sklearn.neighbors import KNeighborsClassifier\n",
    "from sklearn.discriminant_analysis import LinearDiscriminantAnalysis\n",
    "from sklearn.naive_bayes import GaussianNB\n",
    "from sklearn.feature_selection import RFE\n",
    "from xgboost import XGBClassifier"
   ]
  },
  {
   "cell_type": "markdown",
   "metadata": {},
   "source": [
    "## Importing the Data set in a dataframe - travel"
   ]
  },
  {
   "cell_type": "code",
   "execution_count": 3,
   "metadata": {},
   "outputs": [],
   "source": [
    "travel = pd.read_csv('dataset.csv')"
   ]
  },
  {
   "cell_type": "code",
   "execution_count": 4,
   "metadata": {},
   "outputs": [
    {
     "data": {
      "text/html": [
       "<div>\n",
       "<style scoped>\n",
       "    .dataframe tbody tr th:only-of-type {\n",
       "        vertical-align: middle;\n",
       "    }\n",
       "\n",
       "    .dataframe tbody tr th {\n",
       "        vertical-align: top;\n",
       "    }\n",
       "\n",
       "    .dataframe thead th {\n",
       "        text-align: right;\n",
       "    }\n",
       "</style>\n",
       "<table border=\"1\" class=\"dataframe\">\n",
       "  <thead>\n",
       "    <tr style=\"text-align: right;\">\n",
       "      <th></th>\n",
       "      <th>ID</th>\n",
       "      <th>Age</th>\n",
       "      <th>Agency</th>\n",
       "      <th>Agency Type</th>\n",
       "      <th>Commision (in value)</th>\n",
       "      <th>Destination</th>\n",
       "      <th>Distribution Channel</th>\n",
       "      <th>Duration</th>\n",
       "      <th>Gender</th>\n",
       "      <th>Net Sales</th>\n",
       "      <th>Product Name</th>\n",
       "      <th>Claim</th>\n",
       "    </tr>\n",
       "  </thead>\n",
       "  <tbody>\n",
       "    <tr>\n",
       "      <th>0</th>\n",
       "      <td>45341</td>\n",
       "      <td>28</td>\n",
       "      <td>C2B</td>\n",
       "      <td>Airlines</td>\n",
       "      <td>28.13</td>\n",
       "      <td>SINGAPORE</td>\n",
       "      <td>Online</td>\n",
       "      <td>34</td>\n",
       "      <td>F</td>\n",
       "      <td>112.5</td>\n",
       "      <td>Silver Plan</td>\n",
       "      <td>1</td>\n",
       "    </tr>\n",
       "    <tr>\n",
       "      <th>1</th>\n",
       "      <td>12958</td>\n",
       "      <td>37</td>\n",
       "      <td>JZI</td>\n",
       "      <td>Airlines</td>\n",
       "      <td>12.95</td>\n",
       "      <td>PHILIPPINES</td>\n",
       "      <td>Online</td>\n",
       "      <td>53</td>\n",
       "      <td>F</td>\n",
       "      <td>37.0</td>\n",
       "      <td>Basic Plan</td>\n",
       "      <td>0</td>\n",
       "    </tr>\n",
       "    <tr>\n",
       "      <th>2</th>\n",
       "      <td>18233</td>\n",
       "      <td>27</td>\n",
       "      <td>EPX</td>\n",
       "      <td>Travel Agency</td>\n",
       "      <td>0.00</td>\n",
       "      <td>UNITED STATES</td>\n",
       "      <td>Online</td>\n",
       "      <td>28</td>\n",
       "      <td>NaN</td>\n",
       "      <td>13.0</td>\n",
       "      <td>Cancellation Plan</td>\n",
       "      <td>0</td>\n",
       "    </tr>\n",
       "    <tr>\n",
       "      <th>3</th>\n",
       "      <td>31742</td>\n",
       "      <td>36</td>\n",
       "      <td>EPX</td>\n",
       "      <td>Travel Agency</td>\n",
       "      <td>0.00</td>\n",
       "      <td>SAUDI ARABIA</td>\n",
       "      <td>Online</td>\n",
       "      <td>1</td>\n",
       "      <td>NaN</td>\n",
       "      <td>34.0</td>\n",
       "      <td>Cancellation Plan</td>\n",
       "      <td>0</td>\n",
       "    </tr>\n",
       "    <tr>\n",
       "      <th>4</th>\n",
       "      <td>14381</td>\n",
       "      <td>26</td>\n",
       "      <td>CWT</td>\n",
       "      <td>Travel Agency</td>\n",
       "      <td>23.76</td>\n",
       "      <td>THAILAND</td>\n",
       "      <td>Online</td>\n",
       "      <td>33</td>\n",
       "      <td>NaN</td>\n",
       "      <td>39.6</td>\n",
       "      <td>Rental Vehicle Excess Insurance</td>\n",
       "      <td>0</td>\n",
       "    </tr>\n",
       "  </tbody>\n",
       "</table>\n",
       "</div>"
      ],
      "text/plain": [
       "      ID  Age Agency    Agency Type  Commision (in value)    Destination  \\\n",
       "0  45341   28    C2B       Airlines                 28.13      SINGAPORE   \n",
       "1  12958   37    JZI       Airlines                 12.95    PHILIPPINES   \n",
       "2  18233   27    EPX  Travel Agency                  0.00  UNITED STATES   \n",
       "3  31742   36    EPX  Travel Agency                  0.00   SAUDI ARABIA   \n",
       "4  14381   26    CWT  Travel Agency                 23.76       THAILAND   \n",
       "\n",
       "  Distribution Channel  Duration Gender  Net Sales  \\\n",
       "0               Online        34      F      112.5   \n",
       "1               Online        53      F       37.0   \n",
       "2               Online        28    NaN       13.0   \n",
       "3               Online         1    NaN       34.0   \n",
       "4               Online        33    NaN       39.6   \n",
       "\n",
       "                      Product Name  Claim  \n",
       "0                      Silver Plan      1  \n",
       "1                       Basic Plan      0  \n",
       "2                Cancellation Plan      0  \n",
       "3                Cancellation Plan      0  \n",
       "4  Rental Vehicle Excess Insurance      0  "
      ]
     },
     "execution_count": 4,
     "metadata": {},
     "output_type": "execute_result"
    }
   ],
   "source": [
    "travel.head(5)"
   ]
  },
  {
   "cell_type": "markdown",
   "metadata": {},
   "source": [
    "##  Basic Data Hygiene Check."
   ]
  },
  {
   "cell_type": "code",
   "execution_count": 5,
   "metadata": {
    "scrolled": true
   },
   "outputs": [
    {
     "data": {
      "text/plain": [
       "Claim\n",
       "0    0.8\n",
       "1    0.2\n",
       "dtype: float64"
      ]
     },
     "execution_count": 5,
     "metadata": {},
     "output_type": "execute_result"
    }
   ],
   "source": [
    "# Checking the distribution of the claims\n",
    "\n",
    "(travel.groupby('Claim').size()/travel.shape[0]).round(4)"
   ]
  },
  {
   "cell_type": "code",
   "execution_count": 56,
   "metadata": {
    "scrolled": false
   },
   "outputs": [
    {
     "data": {
      "text/plain": [
       "Text(0.5, 1.0, 'Count of each Target Class')"
      ]
     },
     "execution_count": 56,
     "metadata": {},
     "output_type": "execute_result"
    },
    {
     "data": {
      "image/png": "[encoded data removed]",
      "text/plain": [
       "<Figure size 576x432 with 1 Axes>"
      ]
     },
     "metadata": {
      "needs_background": "light"
     },
     "output_type": "display_data"
    }
   ],
   "source": [
    "rcParams['figure.figsize'] = 8,6\n",
    "plt.bar(travel['Claim'].unique(), travel['Claim'].value_counts(), color = ['red', 'green'])\n",
    "plt.xticks([0, 1])\n",
    "plt.xlabel('Target Classes')\n",
    "plt.ylabel('Count')\n",
    "plt.title('Count of each Target Class')"
   ]
  },
  {
   "cell_type": "code",
   "execution_count": 7,
   "metadata": {},
   "outputs": [
    {
     "name": "stdout",
     "output_type": "stream",
     "text": [
      "<class 'pandas.core.frame.DataFrame'>\n",
      "RangeIndex: 62288 entries, 0 to 62287\n",
      "Data columns (total 12 columns):\n",
      "ID                      62288 non-null int64\n",
      "Age                     62288 non-null int64\n",
      "Agency                  62288 non-null object\n",
      "Agency Type             62288 non-null object\n",
      "Commision (in value)    62288 non-null float64\n",
      "Destination             62288 non-null object\n",
      "Distribution Channel    62288 non-null object\n",
      "Duration                62288 non-null int64\n",
      "Gender                  22713 non-null object\n",
      "Net Sales               62288 non-null float64\n",
      "Product Name            62288 non-null object\n",
      "Claim                   62288 non-null int64\n",
      "dtypes: float64(2), int64(4), object(6)\n",
      "memory usage: 5.7+ MB\n"
     ]
    }
   ],
   "source": [
    "#checking for the data types and file size.\n",
    "\n",
    "travel.info()"
   ]
  },
  {
   "cell_type": "code",
   "execution_count": 8,
   "metadata": {},
   "outputs": [
    {
     "data": {
      "text/plain": [
       "ID                          0\n",
       "Age                         0\n",
       "Agency                      0\n",
       "Agency Type                 0\n",
       "Commision (in value)        0\n",
       "Destination                 0\n",
       "Distribution Channel        0\n",
       "Duration                    0\n",
       "Gender                  39575\n",
       "Net Sales                   0\n",
       "Product Name                0\n",
       "Claim                       0\n",
       "dtype: int64"
      ]
     },
     "execution_count": 8,
     "metadata": {},
     "output_type": "execute_result"
    }
   ],
   "source": [
    "# checking for the null values.\n",
    "\n",
    "travel.isnull().sum()"
   ]
  },
  {
   "cell_type": "code",
   "execution_count": 9,
   "metadata": {},
   "outputs": [
    {
     "data": {
      "text/plain": [
       "63.54"
      ]
     },
     "execution_count": 9,
     "metadata": {},
     "output_type": "execute_result"
    }
   ],
   "source": [
    "# Checking the weightage of null values.\n",
    "\n",
    "(travel['Gender'].isnull().sum()/travel.shape[0]*100).round(2)"
   ]
  },
  {
   "cell_type": "markdown",
   "metadata": {},
   "source": [
    "#  Inference:\n",
    "From the above its clear that more then 60% of the data does not have Gender updated. And we also understand that there are no other features that will help us find out whether the individual is male or female.\n",
    "Thus we will drop this feature"
   ]
  },
  {
   "cell_type": "code",
   "execution_count": 54,
   "metadata": {},
   "outputs": [
    {
     "data": {
      "text/plain": [
       "ID                             50756\n",
       "Age                               89\n",
       "Commision (in value)             940\n",
       "Duration                         429\n",
       "Net Sales                       1037\n",
       "Claim                              2\n",
       "Dest_fe                           71\n",
       "Agency_fe                         16\n",
       "Product Name_fe                   25\n",
       "Agency Type_Travel Agency          2\n",
       "Distribution Channel_Online        2\n",
       "dtype: int64"
      ]
     },
     "execution_count": 54,
     "metadata": {},
     "output_type": "execute_result"
    }
   ],
   "source": [
    "# Check for unique Value in the DataFrame.\n",
    "\n",
    "travel.nunique()"
   ]
  },
  {
   "cell_type": "markdown",
   "metadata": {},
   "source": [
    "# Analysis:\n",
    "From the above we can say that Agency Type and Distribution Channel which has just 2 unique values and has dataype object we can use One Hot Encoding and convert them.\n",
    "\n",
    "We will be left with Destination, Agency and Product Name. We will deep dive into this after some analysis of the rest of the data\n"
   ]
  },
  {
   "cell_type": "code",
   "execution_count": 11,
   "metadata": {},
   "outputs": [
    {
     "data": {
      "text/html": [
       "<div>\n",
       "<style scoped>\n",
       "    .dataframe tbody tr th:only-of-type {\n",
       "        vertical-align: middle;\n",
       "    }\n",
       "\n",
       "    .dataframe tbody tr th {\n",
       "        vertical-align: top;\n",
       "    }\n",
       "\n",
       "    .dataframe thead th {\n",
       "        text-align: right;\n",
       "    }\n",
       "</style>\n",
       "<table border=\"1\" class=\"dataframe\">\n",
       "  <thead>\n",
       "    <tr style=\"text-align: right;\">\n",
       "      <th></th>\n",
       "      <th>ID</th>\n",
       "      <th>Age</th>\n",
       "      <th>Commision (in value)</th>\n",
       "      <th>Duration</th>\n",
       "      <th>Net Sales</th>\n",
       "      <th>Claim</th>\n",
       "    </tr>\n",
       "  </thead>\n",
       "  <tbody>\n",
       "    <tr>\n",
       "      <th>count</th>\n",
       "      <td>62288.000000</td>\n",
       "      <td>62288.000000</td>\n",
       "      <td>62288.000000</td>\n",
       "      <td>62288.000000</td>\n",
       "      <td>62288.000000</td>\n",
       "      <td>62288.000000</td>\n",
       "    </tr>\n",
       "    <tr>\n",
       "      <th>mean</th>\n",
       "      <td>32844.953458</td>\n",
       "      <td>39.666324</td>\n",
       "      <td>12.829703</td>\n",
       "      <td>60.958804</td>\n",
       "      <td>50.717064</td>\n",
       "      <td>0.200006</td>\n",
       "    </tr>\n",
       "    <tr>\n",
       "      <th>std</th>\n",
       "      <td>18065.417216</td>\n",
       "      <td>14.014652</td>\n",
       "      <td>23.498745</td>\n",
       "      <td>114.325330</td>\n",
       "      <td>63.166715</td>\n",
       "      <td>0.400008</td>\n",
       "    </tr>\n",
       "    <tr>\n",
       "      <th>min</th>\n",
       "      <td>0.000000</td>\n",
       "      <td>0.000000</td>\n",
       "      <td>0.000000</td>\n",
       "      <td>-2.000000</td>\n",
       "      <td>-389.000000</td>\n",
       "      <td>0.000000</td>\n",
       "    </tr>\n",
       "    <tr>\n",
       "      <th>25%</th>\n",
       "      <td>17579.000000</td>\n",
       "      <td>33.000000</td>\n",
       "      <td>0.000000</td>\n",
       "      <td>10.000000</td>\n",
       "      <td>20.000000</td>\n",
       "      <td>0.000000</td>\n",
       "    </tr>\n",
       "    <tr>\n",
       "      <th>50%</th>\n",
       "      <td>33446.500000</td>\n",
       "      <td>36.000000</td>\n",
       "      <td>1.880000</td>\n",
       "      <td>25.000000</td>\n",
       "      <td>29.700000</td>\n",
       "      <td>0.000000</td>\n",
       "    </tr>\n",
       "    <tr>\n",
       "      <th>75%</th>\n",
       "      <td>48532.250000</td>\n",
       "      <td>43.000000</td>\n",
       "      <td>14.440000</td>\n",
       "      <td>59.000000</td>\n",
       "      <td>58.000000</td>\n",
       "      <td>0.000000</td>\n",
       "    </tr>\n",
       "    <tr>\n",
       "      <th>max</th>\n",
       "      <td>63323.000000</td>\n",
       "      <td>118.000000</td>\n",
       "      <td>262.760000</td>\n",
       "      <td>4881.000000</td>\n",
       "      <td>682.000000</td>\n",
       "      <td>1.000000</td>\n",
       "    </tr>\n",
       "  </tbody>\n",
       "</table>\n",
       "</div>"
      ],
      "text/plain": [
       "                 ID           Age  Commision (in value)      Duration  \\\n",
       "count  62288.000000  62288.000000          62288.000000  62288.000000   \n",
       "mean   32844.953458     39.666324             12.829703     60.958804   \n",
       "std    18065.417216     14.014652             23.498745    114.325330   \n",
       "min        0.000000      0.000000              0.000000     -2.000000   \n",
       "25%    17579.000000     33.000000              0.000000     10.000000   \n",
       "50%    33446.500000     36.000000              1.880000     25.000000   \n",
       "75%    48532.250000     43.000000             14.440000     59.000000   \n",
       "max    63323.000000    118.000000            262.760000   4881.000000   \n",
       "\n",
       "          Net Sales         Claim  \n",
       "count  62288.000000  62288.000000  \n",
       "mean      50.717064      0.200006  \n",
       "std       63.166715      0.400008  \n",
       "min     -389.000000      0.000000  \n",
       "25%       20.000000      0.000000  \n",
       "50%       29.700000      0.000000  \n",
       "75%       58.000000      0.000000  \n",
       "max      682.000000      1.000000  "
      ]
     },
     "execution_count": 11,
     "metadata": {},
     "output_type": "execute_result"
    }
   ],
   "source": [
    "# Check for the maximum and minimum values to see if there are any invalid.\n",
    "\n",
    "travel.describe()"
   ]
  },
  {
   "cell_type": "markdown",
   "metadata": {},
   "source": [
    "1. Age:\n",
    "    - minimum: 0 which is possible.\n",
    "    - maximum: 118, Way too old to travel.\n",
    "   \n",
    "Lets check what insurance companies say.\n",
    "    \n",
    "Insurance Companies do not give insurance over an age of 85. However there are few who provide insurance upto age of 99.\n",
    "So giving benefit of doubt to our Safe Travel Insurance travel company we will assume that any individual upto age 99 is valid anything above that needs to be treated.\n",
    "\n",
    "2. Commission: The data for commission looks valid.\n",
    "\n",
    "\n",
    "3. Duration:\n",
    "    - minimum: -2 \n",
    "    - maximum: 4881\n",
    "    \n",
    "so now lets see what insurance companies say.\n",
    "    - Duration can never be -ve. so this deffinately has to be computed.\n",
    "    - Duration of 4881. \n",
    "\n",
    "Insurance companies do not give insurance over 120 days in India. Lets assume that there is an Annual plan in place then we can say that the maximum tenure of a insurance plan would be 365 days. Also given a fact that one can book a ticket 1 year in advance so we will say that the maximum duration of the insurance cannot be more than\n",
    "- 731 days(365 + 366 days considering if it is a leap year)\n",
    "\n",
    "Incase the values are less then 0.05 we will go ahead and drop the data points else we will have to treat them.\n",
    "\n",
    "\n",
    "4. Net Sales: Minimum has negative values. To check whether sales can be negative or not lets understand how Net Sales is computed.\n",
    "\n",
    "    Net Sales = The Value for which the insurance is sold - Any expenses incurred/Claim Amount paid\n",
    "\n",
    "    - So it is possible that the Sales is showing negative if the Claim amount is paid, it can also be negative even if the claim ammount is not paid incases where the insurance was sent for claim and got rejected. Now the expenses incurred for doing investigation of that claim would be more than the actual policy amount paid."
   ]
  },
  {
   "cell_type": "code",
   "execution_count": 12,
   "metadata": {},
   "outputs": [
    {
     "data": {
      "text/plain": [
       "0.006421782686873876"
      ]
     },
     "execution_count": 12,
     "metadata": {},
     "output_type": "execute_result"
    }
   ],
   "source": [
    "# Calculate % of negative Duration Travels\n",
    "\n",
    "(travel['Duration'] < 0).sum()/travel.shape[0]*100"
   ]
  },
  {
   "cell_type": "code",
   "execution_count": 13,
   "metadata": {
    "scrolled": false
   },
   "outputs": [
    {
     "data": {
      "text/plain": [
       "0.020870793732340097"
      ]
     },
     "execution_count": 13,
     "metadata": {},
     "output_type": "execute_result"
    }
   ],
   "source": [
    "(travel['Duration'] > 731).sum()/travel.shape[0]*100"
   ]
  },
  {
   "cell_type": "code",
   "execution_count": 14,
   "metadata": {},
   "outputs": [
    {
     "data": {
      "text/plain": [
       "1.4497174415617775"
      ]
     },
     "execution_count": 14,
     "metadata": {},
     "output_type": "execute_result"
    }
   ],
   "source": [
    "# Now check the weightage of Age\n",
    "(travel['Age'] > 99).sum()/travel.shape[0]*100"
   ]
  },
  {
   "cell_type": "markdown",
   "metadata": {},
   "source": [
    "Since the weightage is more than 0.05 we will not be deleting these data, we will instead compute age above 118 as 99 we will not be computing this with median or mean since that would manipluate the data. Thus giving the benefit of doubt to the data we will make it 99"
   ]
  },
  {
   "cell_type": "code",
   "execution_count": 15,
   "metadata": {},
   "outputs": [],
   "source": [
    "# define a function to make age groups as children, adults and senior\n",
    "\n",
    "def age_convert(age):\n",
    "    result = ''\n",
    "    if(age <= 21):\n",
    "        result = 'Child'\n",
    "    elif(age <= 50):\n",
    "        result = 'Adult'\n",
    "    else:\n",
    "        result = 'Senior'\n",
    "    return result"
   ]
  },
  {
   "cell_type": "code",
   "execution_count": 16,
   "metadata": {},
   "outputs": [],
   "source": [
    "# Write a function for data preprocessing\n",
    "\n",
    "def data_pre_processing(df):\n",
    "    # Add a new column in the Database as Age Group\n",
    "\n",
    "    df['Age Group'] = df['Age'].map(lambda x: age_convert(x))\n",
    "\n",
    "    # Dropping Feature Gender\n",
    "    df.drop('Gender',axis =1, inplace=True)\n",
    "    \n",
    "    # Since the minimum duration that any travel can have is 1 day thus we impute it by the column median.\n",
    "    df['Duration'][df['Duration'] < 0] = df['Duration'].median()\n",
    "\n",
    "    # As we observed duration of any travel cannot be more than 731 we will impute it as 731.\n",
    "    df['Duration'][df['Duration'] > 731] = 731\n",
    "    \n",
    "    # replacing the values that is greater than 99 with the mean of Senior Age\n",
    "    df['Age'][df['Age'] > 99] = df[df['Age Group'] == 'Senior']['Age'].mean()\n",
    "    "
   ]
  },
  {
   "cell_type": "code",
   "execution_count": 17,
   "metadata": {},
   "outputs": [
    {
     "name": "stderr",
     "output_type": "stream",
     "text": [
      "C:\\Users\\athar\\Anaconda3\\lib\\site-packages\\ipykernel_launcher.py:12: SettingWithCopyWarning: \n",
      "A value is trying to be set on a copy of a slice from a DataFrame\n",
      "\n",
      "See the caveats in the documentation: http://pandas.pydata.org/pandas-docs/stable/indexing.html#indexing-view-versus-copy\n",
      "  if sys.path[0] == '':\n",
      "C:\\Users\\athar\\Anaconda3\\lib\\site-packages\\ipykernel_launcher.py:18: SettingWithCopyWarning: \n",
      "A value is trying to be set on a copy of a slice from a DataFrame\n",
      "\n",
      "See the caveats in the documentation: http://pandas.pydata.org/pandas-docs/stable/indexing.html#indexing-view-versus-copy\n"
     ]
    }
   ],
   "source": [
    "data_pre_processing(travel)"
   ]
  },
  {
   "cell_type": "code",
   "execution_count": 18,
   "metadata": {
    "scrolled": true
   },
   "outputs": [
    {
     "data": {
      "text/html": [
       "<div>\n",
       "<style scoped>\n",
       "    .dataframe tbody tr th:only-of-type {\n",
       "        vertical-align: middle;\n",
       "    }\n",
       "\n",
       "    .dataframe tbody tr th {\n",
       "        vertical-align: top;\n",
       "    }\n",
       "\n",
       "    .dataframe thead th {\n",
       "        text-align: right;\n",
       "    }\n",
       "</style>\n",
       "<table border=\"1\" class=\"dataframe\">\n",
       "  <thead>\n",
       "    <tr style=\"text-align: right;\">\n",
       "      <th></th>\n",
       "      <th>ID</th>\n",
       "      <th>Age</th>\n",
       "      <th>Commision (in value)</th>\n",
       "      <th>Duration</th>\n",
       "      <th>Net Sales</th>\n",
       "      <th>Claim</th>\n",
       "    </tr>\n",
       "  </thead>\n",
       "  <tbody>\n",
       "    <tr>\n",
       "      <th>count</th>\n",
       "      <td>62288.000000</td>\n",
       "      <td>62288.000000</td>\n",
       "      <td>62288.000000</td>\n",
       "      <td>62288.000000</td>\n",
       "      <td>62288.000000</td>\n",
       "      <td>62288.000000</td>\n",
       "    </tr>\n",
       "    <tr>\n",
       "      <th>mean</th>\n",
       "      <td>32844.953458</td>\n",
       "      <td>38.904537</td>\n",
       "      <td>12.829703</td>\n",
       "      <td>60.182748</td>\n",
       "      <td>50.717064</td>\n",
       "      <td>0.200006</td>\n",
       "    </tr>\n",
       "    <tr>\n",
       "      <th>std</th>\n",
       "      <td>18065.417216</td>\n",
       "      <td>10.794050</td>\n",
       "      <td>23.498745</td>\n",
       "      <td>94.270276</td>\n",
       "      <td>63.166715</td>\n",
       "      <td>0.400008</td>\n",
       "    </tr>\n",
       "    <tr>\n",
       "      <th>min</th>\n",
       "      <td>0.000000</td>\n",
       "      <td>0.000000</td>\n",
       "      <td>0.000000</td>\n",
       "      <td>0.000000</td>\n",
       "      <td>-389.000000</td>\n",
       "      <td>0.000000</td>\n",
       "    </tr>\n",
       "    <tr>\n",
       "      <th>25%</th>\n",
       "      <td>17579.000000</td>\n",
       "      <td>33.000000</td>\n",
       "      <td>0.000000</td>\n",
       "      <td>10.000000</td>\n",
       "      <td>20.000000</td>\n",
       "      <td>0.000000</td>\n",
       "    </tr>\n",
       "    <tr>\n",
       "      <th>50%</th>\n",
       "      <td>33446.500000</td>\n",
       "      <td>36.000000</td>\n",
       "      <td>1.880000</td>\n",
       "      <td>25.000000</td>\n",
       "      <td>29.700000</td>\n",
       "      <td>0.000000</td>\n",
       "    </tr>\n",
       "    <tr>\n",
       "      <th>75%</th>\n",
       "      <td>48532.250000</td>\n",
       "      <td>43.000000</td>\n",
       "      <td>14.440000</td>\n",
       "      <td>59.000000</td>\n",
       "      <td>58.000000</td>\n",
       "      <td>0.000000</td>\n",
       "    </tr>\n",
       "    <tr>\n",
       "      <th>max</th>\n",
       "      <td>63323.000000</td>\n",
       "      <td>88.000000</td>\n",
       "      <td>262.760000</td>\n",
       "      <td>731.000000</td>\n",
       "      <td>682.000000</td>\n",
       "      <td>1.000000</td>\n",
       "    </tr>\n",
       "  </tbody>\n",
       "</table>\n",
       "</div>"
      ],
      "text/plain": [
       "                 ID           Age  Commision (in value)      Duration  \\\n",
       "count  62288.000000  62288.000000          62288.000000  62288.000000   \n",
       "mean   32844.953458     38.904537             12.829703     60.182748   \n",
       "std    18065.417216     10.794050             23.498745     94.270276   \n",
       "min        0.000000      0.000000              0.000000      0.000000   \n",
       "25%    17579.000000     33.000000              0.000000     10.000000   \n",
       "50%    33446.500000     36.000000              1.880000     25.000000   \n",
       "75%    48532.250000     43.000000             14.440000     59.000000   \n",
       "max    63323.000000     88.000000            262.760000    731.000000   \n",
       "\n",
       "          Net Sales         Claim  \n",
       "count  62288.000000  62288.000000  \n",
       "mean      50.717064      0.200006  \n",
       "std       63.166715      0.400008  \n",
       "min     -389.000000      0.000000  \n",
       "25%       20.000000      0.000000  \n",
       "50%       29.700000      0.000000  \n",
       "75%       58.000000      0.000000  \n",
       "max      682.000000      1.000000  "
      ]
     },
     "execution_count": 18,
     "metadata": {},
     "output_type": "execute_result"
    }
   ],
   "source": [
    "travel.describe()"
   ]
  },
  {
   "cell_type": "markdown",
   "metadata": {},
   "source": [
    "# EXPLORATORY DATA ANALYSIS."
   ]
  },
  {
   "cell_type": "code",
   "execution_count": 19,
   "metadata": {},
   "outputs": [],
   "source": [
    "# Creating a dataframe dropping the features with datatype Object\n",
    "\n",
    "travel_plot = travel.drop(['ID','Agency','Agency Type','Destination','Distribution Channel','Product Name','Claim'], axis = 1)"
   ]
  },
  {
   "cell_type": "code",
   "execution_count": 20,
   "metadata": {
    "scrolled": true
   },
   "outputs": [
    {
     "data": {
      "image/png": "[encoded data removed]",
      "text/plain": [
       "<Figure size 1440x1440 with 8 Axes>"
      ]
     },
     "metadata": {
      "needs_background": "light"
     },
     "output_type": "display_data"
    }
   ],
   "source": [
    "# box and whisker plots\n",
    "\n",
    "travel_plot.plot(kind='box', subplots=True, layout=(2,4), sharex=False, sharey=False, figsize=(20,20),color='blue')\n",
    "plt.show()"
   ]
  },
  {
   "cell_type": "code",
   "execution_count": 21,
   "metadata": {
    "scrolled": true
   },
   "outputs": [
    {
     "data": {
      "image/png": "[encoded data removed]",
      "text/plain": [
       "<Figure size 1440x360 with 4 Axes>"
      ]
     },
     "metadata": {
      "needs_background": "light"
     },
     "output_type": "display_data"
    }
   ],
   "source": [
    "travel_plot.hist(grid=False,sharex=False,sharey=False,figsize=(20,5),layout=(1,4))\n",
    "plt.show()"
   ]
  },
  {
   "cell_type": "markdown",
   "metadata": {},
   "source": [
    "We would not be correcting the skewness as the data is valid and whenever in the future if we are getting some 5 to 10 data we wont be able to find skeness there. Thus we will leave it as it is."
   ]
  },
  {
   "cell_type": "markdown",
   "metadata": {},
   "source": [
    "# Agencies with maximum claims."
   ]
  },
  {
   "cell_type": "code",
   "execution_count": 22,
   "metadata": {},
   "outputs": [
    {
     "data": {
      "text/html": [
       "<div>\n",
       "<style scoped>\n",
       "    .dataframe tbody tr th:only-of-type {\n",
       "        vertical-align: middle;\n",
       "    }\n",
       "\n",
       "    .dataframe tbody tr th {\n",
       "        vertical-align: top;\n",
       "    }\n",
       "\n",
       "    .dataframe thead th {\n",
       "        text-align: right;\n",
       "    }\n",
       "</style>\n",
       "<table border=\"1\" class=\"dataframe\">\n",
       "  <thead>\n",
       "    <tr style=\"text-align: right;\">\n",
       "      <th></th>\n",
       "      <th>Agency</th>\n",
       "      <th>Claim</th>\n",
       "    </tr>\n",
       "  </thead>\n",
       "  <tbody>\n",
       "    <tr>\n",
       "      <th>2</th>\n",
       "      <td>C2B</td>\n",
       "      <td>0.544827</td>\n",
       "    </tr>\n",
       "    <tr>\n",
       "      <th>11</th>\n",
       "      <td>LWC</td>\n",
       "      <td>0.467347</td>\n",
       "    </tr>\n",
       "    <tr>\n",
       "      <th>15</th>\n",
       "      <td>TTW</td>\n",
       "      <td>0.376923</td>\n",
       "    </tr>\n",
       "    <tr>\n",
       "      <th>10</th>\n",
       "      <td>KML</td>\n",
       "      <td>0.301124</td>\n",
       "    </tr>\n",
       "    <tr>\n",
       "      <th>4</th>\n",
       "      <td>CCR</td>\n",
       "      <td>0.222749</td>\n",
       "    </tr>\n",
       "    <tr>\n",
       "      <th>5</th>\n",
       "      <td>CSR</td>\n",
       "      <td>0.173333</td>\n",
       "    </tr>\n",
       "    <tr>\n",
       "      <th>6</th>\n",
       "      <td>CWT</td>\n",
       "      <td>0.145802</td>\n",
       "    </tr>\n",
       "    <tr>\n",
       "      <th>3</th>\n",
       "      <td>CBH</td>\n",
       "      <td>0.141414</td>\n",
       "    </tr>\n",
       "    <tr>\n",
       "      <th>13</th>\n",
       "      <td>SSI</td>\n",
       "      <td>0.104813</td>\n",
       "    </tr>\n",
       "    <tr>\n",
       "      <th>7</th>\n",
       "      <td>EPX</td>\n",
       "      <td>0.084498</td>\n",
       "    </tr>\n",
       "  </tbody>\n",
       "</table>\n",
       "</div>"
      ],
      "text/plain": [
       "   Agency     Claim\n",
       "2     C2B  0.544827\n",
       "11    LWC  0.467347\n",
       "15    TTW  0.376923\n",
       "10    KML  0.301124\n",
       "4     CCR  0.222749\n",
       "5     CSR  0.173333\n",
       "6     CWT  0.145802\n",
       "3     CBH  0.141414\n",
       "13    SSI  0.104813\n",
       "7     EPX  0.084498"
      ]
     },
     "execution_count": 22,
     "metadata": {},
     "output_type": "execute_result"
    }
   ],
   "source": [
    "# Finding the Agencies with the Maximum Claims\n",
    "\n",
    "Claim_mean = (travel.groupby('Agency', as_index=False)['Claim'].mean()).nlargest(10,'Claim')\n",
    "Claim_mean"
   ]
  },
  {
   "cell_type": "code",
   "execution_count": 61,
   "metadata": {
    "scrolled": true
   },
   "outputs": [
    {
     "data": {
      "image/png": "[encoded data removed]",
      "text/plain": [
       "<Figure size 432x288 with 1 Axes>"
      ]
     },
     "metadata": {
      "needs_background": "light"
     },
     "output_type": "display_data"
    }
   ],
   "source": [
    "ax = Claim_mean.plot.bar(x='Agency', y='Claim', rot=0)"
   ]
  },
  {
   "cell_type": "markdown",
   "metadata": {},
   "source": [
    "# Agencies with the most number of net sales."
   ]
  },
  {
   "cell_type": "code",
   "execution_count": 24,
   "metadata": {},
   "outputs": [
    {
     "data": {
      "text/html": [
       "<div>\n",
       "<style scoped>\n",
       "    .dataframe tbody tr th:only-of-type {\n",
       "        vertical-align: middle;\n",
       "    }\n",
       "\n",
       "    .dataframe tbody tr th {\n",
       "        vertical-align: top;\n",
       "    }\n",
       "\n",
       "    .dataframe thead th {\n",
       "        text-align: right;\n",
       "    }\n",
       "</style>\n",
       "<table border=\"1\" class=\"dataframe\">\n",
       "  <thead>\n",
       "    <tr style=\"text-align: right;\">\n",
       "      <th></th>\n",
       "      <th>Agency</th>\n",
       "      <th>Net Sales</th>\n",
       "    </tr>\n",
       "  </thead>\n",
       "  <tbody>\n",
       "    <tr>\n",
       "      <th>11</th>\n",
       "      <td>LWC</td>\n",
       "      <td>126.991327</td>\n",
       "    </tr>\n",
       "    <tr>\n",
       "      <th>2</th>\n",
       "      <td>C2B</td>\n",
       "      <td>98.088149</td>\n",
       "    </tr>\n",
       "    <tr>\n",
       "      <th>15</th>\n",
       "      <td>TTW</td>\n",
       "      <td>93.300000</td>\n",
       "    </tr>\n",
       "    <tr>\n",
       "      <th>0</th>\n",
       "      <td>ADM</td>\n",
       "      <td>56.184615</td>\n",
       "    </tr>\n",
       "    <tr>\n",
       "      <th>8</th>\n",
       "      <td>JWT</td>\n",
       "      <td>54.912363</td>\n",
       "    </tr>\n",
       "    <tr>\n",
       "      <th>10</th>\n",
       "      <td>KML</td>\n",
       "      <td>52.424719</td>\n",
       "    </tr>\n",
       "    <tr>\n",
       "      <th>6</th>\n",
       "      <td>CWT</td>\n",
       "      <td>47.191742</td>\n",
       "    </tr>\n",
       "    <tr>\n",
       "      <th>7</th>\n",
       "      <td>EPX</td>\n",
       "      <td>33.668716</td>\n",
       "    </tr>\n",
       "    <tr>\n",
       "      <th>9</th>\n",
       "      <td>JZI</td>\n",
       "      <td>32.747784</td>\n",
       "    </tr>\n",
       "    <tr>\n",
       "      <th>5</th>\n",
       "      <td>CSR</td>\n",
       "      <td>31.706667</td>\n",
       "    </tr>\n",
       "  </tbody>\n",
       "</table>\n",
       "</div>"
      ],
      "text/plain": [
       "   Agency   Net Sales\n",
       "11    LWC  126.991327\n",
       "2     C2B   98.088149\n",
       "15    TTW   93.300000\n",
       "0     ADM   56.184615\n",
       "8     JWT   54.912363\n",
       "10    KML   52.424719\n",
       "6     CWT   47.191742\n",
       "7     EPX   33.668716\n",
       "9     JZI   32.747784\n",
       "5     CSR   31.706667"
      ]
     },
     "execution_count": 24,
     "metadata": {},
     "output_type": "execute_result"
    }
   ],
   "source": [
    "netsales_mean = (travel.groupby('Agency', as_index=False)['Net Sales'].mean()).nlargest(10,'Net Sales')\n",
    "netsales_mean"
   ]
  },
  {
   "cell_type": "code",
   "execution_count": 62,
   "metadata": {
    "scrolled": true
   },
   "outputs": [
    {
     "data": {
      "image/png": "[encoded data removed]",
      "text/plain": [
       "<Figure size 432x288 with 1 Axes>"
      ]
     },
     "metadata": {
      "needs_background": "light"
     },
     "output_type": "display_data"
    }
   ],
   "source": [
    "ax1 = netsales_mean.plot.bar(x='Agency', y='Net Sales', rot=0)"
   ]
  },
  {
   "cell_type": "code",
   "execution_count": 26,
   "metadata": {
    "scrolled": false
   },
   "outputs": [
    {
     "data": {
      "text/html": [
       "<div>\n",
       "<style scoped>\n",
       "    .dataframe tbody tr th:only-of-type {\n",
       "        vertical-align: middle;\n",
       "    }\n",
       "\n",
       "    .dataframe tbody tr th {\n",
       "        vertical-align: top;\n",
       "    }\n",
       "\n",
       "    .dataframe thead tr th {\n",
       "        text-align: left;\n",
       "    }\n",
       "\n",
       "    .dataframe thead tr:last-of-type th {\n",
       "        text-align: right;\n",
       "    }\n",
       "</style>\n",
       "<table border=\"1\" class=\"dataframe\">\n",
       "  <thead>\n",
       "    <tr>\n",
       "      <th></th>\n",
       "      <th colspan=\"2\" halign=\"left\">Agency</th>\n",
       "    </tr>\n",
       "    <tr>\n",
       "      <th>Claim</th>\n",
       "      <th>0</th>\n",
       "      <th>1</th>\n",
       "    </tr>\n",
       "    <tr>\n",
       "      <th>Agency Type</th>\n",
       "      <th></th>\n",
       "      <th></th>\n",
       "    </tr>\n",
       "  </thead>\n",
       "  <tbody>\n",
       "    <tr>\n",
       "      <th>Airlines</th>\n",
       "      <td>13481</td>\n",
       "      <td>7991</td>\n",
       "    </tr>\n",
       "    <tr>\n",
       "      <th>Travel Agency</th>\n",
       "      <td>36349</td>\n",
       "      <td>4467</td>\n",
       "    </tr>\n",
       "  </tbody>\n",
       "</table>\n",
       "</div>"
      ],
      "text/plain": [
       "              Agency      \n",
       "Claim              0     1\n",
       "Agency Type               \n",
       "Airlines       13481  7991\n",
       "Travel Agency  36349  4467"
      ]
     },
     "execution_count": 26,
     "metadata": {},
     "output_type": "execute_result"
    },
    {
     "data": {
      "image/png": "[encoded data removed]",
      "text/plain": [
       "<Figure size 403.2x288 with 2 Axes>"
      ]
     },
     "metadata": {
      "needs_background": "light"
     },
     "output_type": "display_data"
    }
   ],
   "source": [
    "plot2 = sns.catplot(x=\"Agency Type\", col=\"Claim\",data=travel, kind=\"count\",height=4, aspect=.7)\n",
    "travel.pivot_table(index=['Agency Type'],columns=['Claim'], values=['Agency'], aggfunc='count')"
   ]
  },
  {
   "cell_type": "code",
   "execution_count": 27,
   "metadata": {},
   "outputs": [
    {
     "data": {
      "text/html": [
       "<div>\n",
       "<style scoped>\n",
       "    .dataframe tbody tr th:only-of-type {\n",
       "        vertical-align: middle;\n",
       "    }\n",
       "\n",
       "    .dataframe tbody tr th {\n",
       "        vertical-align: top;\n",
       "    }\n",
       "\n",
       "    .dataframe thead th {\n",
       "        text-align: right;\n",
       "    }\n",
       "</style>\n",
       "<table border=\"1\" class=\"dataframe\">\n",
       "  <thead>\n",
       "    <tr style=\"text-align: right;\">\n",
       "      <th></th>\n",
       "      <th>Net Sales</th>\n",
       "    </tr>\n",
       "    <tr>\n",
       "      <th>Product Name</th>\n",
       "      <th></th>\n",
       "    </tr>\n",
       "  </thead>\n",
       "  <tbody>\n",
       "    <tr>\n",
       "      <th>1 way Comprehensive Plan</th>\n",
       "      <td>27.901674</td>\n",
       "    </tr>\n",
       "    <tr>\n",
       "      <th>2 way Comprehensive Plan</th>\n",
       "      <td>44.147544</td>\n",
       "    </tr>\n",
       "    <tr>\n",
       "      <th>24 Protect</th>\n",
       "      <td>20.976425</td>\n",
       "    </tr>\n",
       "    <tr>\n",
       "      <th>Annual Gold Plan</th>\n",
       "      <td>343.186493</td>\n",
       "    </tr>\n",
       "    <tr>\n",
       "      <th>Annual Silver Plan</th>\n",
       "      <td>229.306389</td>\n",
       "    </tr>\n",
       "    <tr>\n",
       "      <th>Annual Travel Protect Gold</th>\n",
       "      <td>251.299495</td>\n",
       "    </tr>\n",
       "    <tr>\n",
       "      <th>Annual Travel Protect Platinum</th>\n",
       "      <td>328.202632</td>\n",
       "    </tr>\n",
       "    <tr>\n",
       "      <th>Annual Travel Protect Silver</th>\n",
       "      <td>206.034766</td>\n",
       "    </tr>\n",
       "    <tr>\n",
       "      <th>Basic Plan</th>\n",
       "      <td>26.449732</td>\n",
       "    </tr>\n",
       "    <tr>\n",
       "      <th>Bronze Plan</th>\n",
       "      <td>36.176003</td>\n",
       "    </tr>\n",
       "    <tr>\n",
       "      <th>Cancellation Plan</th>\n",
       "      <td>26.359906</td>\n",
       "    </tr>\n",
       "    <tr>\n",
       "      <th>Child Comprehensive Plan</th>\n",
       "      <td>74.000000</td>\n",
       "    </tr>\n",
       "    <tr>\n",
       "      <th>Comprehensive Plan</th>\n",
       "      <td>28.566038</td>\n",
       "    </tr>\n",
       "    <tr>\n",
       "      <th>Gold Plan</th>\n",
       "      <td>80.963548</td>\n",
       "    </tr>\n",
       "    <tr>\n",
       "      <th>Individual Comprehensive Plan</th>\n",
       "      <td>97.000000</td>\n",
       "    </tr>\n",
       "    <tr>\n",
       "      <th>Premier Plan</th>\n",
       "      <td>60.668293</td>\n",
       "    </tr>\n",
       "    <tr>\n",
       "      <th>Rental Vehicle Excess Insurance</th>\n",
       "      <td>47.191742</td>\n",
       "    </tr>\n",
       "    <tr>\n",
       "      <th>Silver Plan</th>\n",
       "      <td>58.928950</td>\n",
       "    </tr>\n",
       "    <tr>\n",
       "      <th>Single Trip Travel Protect Gold</th>\n",
       "      <td>42.347143</td>\n",
       "    </tr>\n",
       "    <tr>\n",
       "      <th>Single Trip Travel Protect Platinum</th>\n",
       "      <td>47.043277</td>\n",
       "    </tr>\n",
       "    <tr>\n",
       "      <th>Single Trip Travel Protect Silver</th>\n",
       "      <td>33.089385</td>\n",
       "    </tr>\n",
       "    <tr>\n",
       "      <th>Spouse or Parents Comprehensive Plan</th>\n",
       "      <td>86.000000</td>\n",
       "    </tr>\n",
       "    <tr>\n",
       "      <th>Ticket Protector</th>\n",
       "      <td>6.642278</td>\n",
       "    </tr>\n",
       "    <tr>\n",
       "      <th>Travel Cruise Protect</th>\n",
       "      <td>29.386364</td>\n",
       "    </tr>\n",
       "    <tr>\n",
       "      <th>Value Plan</th>\n",
       "      <td>49.622176</td>\n",
       "    </tr>\n",
       "  </tbody>\n",
       "</table>\n",
       "</div>"
      ],
      "text/plain": [
       "                                       Net Sales\n",
       "Product Name                                    \n",
       "1 way Comprehensive Plan               27.901674\n",
       "2 way Comprehensive Plan               44.147544\n",
       "24 Protect                             20.976425\n",
       "Annual Gold Plan                      343.186493\n",
       "Annual Silver Plan                    229.306389\n",
       "Annual Travel Protect Gold            251.299495\n",
       "Annual Travel Protect Platinum        328.202632\n",
       "Annual Travel Protect Silver          206.034766\n",
       "Basic Plan                             26.449732\n",
       "Bronze Plan                            36.176003\n",
       "Cancellation Plan                      26.359906\n",
       "Child Comprehensive Plan               74.000000\n",
       "Comprehensive Plan                     28.566038\n",
       "Gold Plan                              80.963548\n",
       "Individual Comprehensive Plan          97.000000\n",
       "Premier Plan                           60.668293\n",
       "Rental Vehicle Excess Insurance        47.191742\n",
       "Silver Plan                            58.928950\n",
       "Single Trip Travel Protect Gold        42.347143\n",
       "Single Trip Travel Protect Platinum    47.043277\n",
       "Single Trip Travel Protect Silver      33.089385\n",
       "Spouse or Parents Comprehensive Plan   86.000000\n",
       "Ticket Protector                        6.642278\n",
       "Travel Cruise Protect                  29.386364\n",
       "Value Plan                             49.622176"
      ]
     },
     "execution_count": 27,
     "metadata": {},
     "output_type": "execute_result"
    }
   ],
   "source": [
    "travel.pivot_table(index = ['Product Name'], values = ['Net Sales'], aggfunc = 'mean')"
   ]
  },
  {
   "cell_type": "code",
   "execution_count": 28,
   "metadata": {},
   "outputs": [
    {
     "data": {
      "text/html": [
       "<div>\n",
       "<style scoped>\n",
       "    .dataframe tbody tr th:only-of-type {\n",
       "        vertical-align: middle;\n",
       "    }\n",
       "\n",
       "    .dataframe tbody tr th {\n",
       "        vertical-align: top;\n",
       "    }\n",
       "\n",
       "    .dataframe thead th {\n",
       "        text-align: right;\n",
       "    }\n",
       "</style>\n",
       "<table border=\"1\" class=\"dataframe\">\n",
       "  <thead>\n",
       "    <tr style=\"text-align: right;\">\n",
       "      <th></th>\n",
       "      <th>Net Sales</th>\n",
       "    </tr>\n",
       "    <tr>\n",
       "      <th>Age Group</th>\n",
       "      <th></th>\n",
       "    </tr>\n",
       "  </thead>\n",
       "  <tbody>\n",
       "    <tr>\n",
       "      <th>Adult</th>\n",
       "      <td>52582</td>\n",
       "    </tr>\n",
       "    <tr>\n",
       "      <th>Child</th>\n",
       "      <td>828</td>\n",
       "    </tr>\n",
       "    <tr>\n",
       "      <th>Senior</th>\n",
       "      <td>8878</td>\n",
       "    </tr>\n",
       "  </tbody>\n",
       "</table>\n",
       "</div>"
      ],
      "text/plain": [
       "           Net Sales\n",
       "Age Group           \n",
       "Adult          52582\n",
       "Child            828\n",
       "Senior          8878"
      ]
     },
     "execution_count": 28,
     "metadata": {},
     "output_type": "execute_result"
    }
   ],
   "source": [
    "travel.pivot_table(index = ['Age Group'], values = ['Net Sales'], aggfunc = 'count')"
   ]
  },
  {
   "cell_type": "code",
   "execution_count": 29,
   "metadata": {
    "scrolled": false
   },
   "outputs": [
    {
     "data": {
      "text/plain": [
       "Age Group  Claim\n",
       "Adult      0        42203\n",
       "           1        10379\n",
       "Child      0          605\n",
       "           1          223\n",
       "Senior     0         7022\n",
       "           1         1856\n",
       "Name: Claim, dtype: int64"
      ]
     },
     "execution_count": 29,
     "metadata": {},
     "output_type": "execute_result"
    }
   ],
   "source": [
    "travel.groupby('Age Group')['Claim'].value_counts()"
   ]
  },
  {
   "cell_type": "code",
   "execution_count": 30,
   "metadata": {
    "scrolled": false
   },
   "outputs": [
    {
     "data": {
      "text/plain": [
       "<seaborn.axisgrid.FacetGrid at 0x17f67ad1c18>"
      ]
     },
     "execution_count": 30,
     "metadata": {},
     "output_type": "execute_result"
    },
    {
     "data": {
      "text/plain": [
       "<Figure size 288x288 with 0 Axes>"
      ]
     },
     "metadata": {},
     "output_type": "display_data"
    },
    {
     "data": {
      "image/png": "[encoded data removed]",
      "text/plain": [
       "<Figure size 1080x360 with 3 Axes>"
      ]
     },
     "metadata": {
      "needs_background": "light"
     },
     "output_type": "display_data"
    }
   ],
   "source": [
    "fig = plt.figure(figsize = (4,4))\n",
    "sns.catplot('Claim', col = 'Age Group', data = travel, col_wrap =3, kind='count',sharey=False)"
   ]
  },
  {
   "cell_type": "code",
   "execution_count": 31,
   "metadata": {},
   "outputs": [],
   "source": [
    "# Converting all IDs to sensible numbers (Risk of default - inspired by WOE)\n",
    "travel['Destination_risk'] = travel.groupby('Destination')['Claim'].transform('mean')"
   ]
  },
  {
   "cell_type": "code",
   "execution_count": 32,
   "metadata": {},
   "outputs": [],
   "source": [
    "def Coutry_Categories(value):\n",
    "    result = ''\n",
    "    if(value >= 0.3):\n",
    "        result = '(1) High Risk - More than 30% Claimed'\n",
    "    elif(value >= 0.2):\n",
    "        result = '(2) Medium Risk - More than 20% Claimed'\n",
    "    elif(value > 0):\n",
    "        result = '(3) Low Risk - More than 1% Claimed'\n",
    "    else:\n",
    "        result = '(4) No Risk Countries'\n",
    "    return result"
   ]
  },
  {
   "cell_type": "code",
   "execution_count": 33,
   "metadata": {},
   "outputs": [],
   "source": [
    "travel['Risk of Countries'] = travel['Destination_risk'].map(lambda x: Coutry_Categories(x))"
   ]
  },
  {
   "cell_type": "code",
   "execution_count": 34,
   "metadata": {
    "scrolled": true
   },
   "outputs": [
    {
     "data": {
      "text/html": [
       "<div>\n",
       "<style scoped>\n",
       "    .dataframe tbody tr th:only-of-type {\n",
       "        vertical-align: middle;\n",
       "    }\n",
       "\n",
       "    .dataframe tbody tr th {\n",
       "        vertical-align: top;\n",
       "    }\n",
       "\n",
       "    .dataframe thead th {\n",
       "        text-align: right;\n",
       "    }\n",
       "</style>\n",
       "<table border=\"1\" class=\"dataframe\">\n",
       "  <thead>\n",
       "    <tr style=\"text-align: right;\">\n",
       "      <th></th>\n",
       "      <th>ID</th>\n",
       "      <th>Age</th>\n",
       "      <th>Agency</th>\n",
       "      <th>Agency Type</th>\n",
       "      <th>Commision (in value)</th>\n",
       "      <th>Destination</th>\n",
       "      <th>Distribution Channel</th>\n",
       "      <th>Duration</th>\n",
       "      <th>Net Sales</th>\n",
       "      <th>Product Name</th>\n",
       "      <th>Claim</th>\n",
       "      <th>Age Group</th>\n",
       "      <th>Destination_risk</th>\n",
       "      <th>Risk of Countries</th>\n",
       "    </tr>\n",
       "  </thead>\n",
       "  <tbody>\n",
       "    <tr>\n",
       "      <th>0</th>\n",
       "      <td>45341</td>\n",
       "      <td>28.0</td>\n",
       "      <td>C2B</td>\n",
       "      <td>Airlines</td>\n",
       "      <td>28.13</td>\n",
       "      <td>SINGAPORE</td>\n",
       "      <td>Online</td>\n",
       "      <td>34</td>\n",
       "      <td>112.5</td>\n",
       "      <td>Silver Plan</td>\n",
       "      <td>1</td>\n",
       "      <td>Adult</td>\n",
       "      <td>0.427905</td>\n",
       "      <td>(1) High Risk - More than 30% Claimed</td>\n",
       "    </tr>\n",
       "    <tr>\n",
       "      <th>1</th>\n",
       "      <td>12958</td>\n",
       "      <td>37.0</td>\n",
       "      <td>JZI</td>\n",
       "      <td>Airlines</td>\n",
       "      <td>12.95</td>\n",
       "      <td>PHILIPPINES</td>\n",
       "      <td>Online</td>\n",
       "      <td>53</td>\n",
       "      <td>37.0</td>\n",
       "      <td>Basic Plan</td>\n",
       "      <td>0</td>\n",
       "      <td>Adult</td>\n",
       "      <td>0.052657</td>\n",
       "      <td>(3) Low Risk - More than 1% Claimed</td>\n",
       "    </tr>\n",
       "    <tr>\n",
       "      <th>2</th>\n",
       "      <td>18233</td>\n",
       "      <td>27.0</td>\n",
       "      <td>EPX</td>\n",
       "      <td>Travel Agency</td>\n",
       "      <td>0.00</td>\n",
       "      <td>UNITED STATES</td>\n",
       "      <td>Online</td>\n",
       "      <td>28</td>\n",
       "      <td>13.0</td>\n",
       "      <td>Cancellation Plan</td>\n",
       "      <td>0</td>\n",
       "      <td>Adult</td>\n",
       "      <td>0.206539</td>\n",
       "      <td>(2) Medium Risk - More than 20% Claimed</td>\n",
       "    </tr>\n",
       "    <tr>\n",
       "      <th>3</th>\n",
       "      <td>31742</td>\n",
       "      <td>36.0</td>\n",
       "      <td>EPX</td>\n",
       "      <td>Travel Agency</td>\n",
       "      <td>0.00</td>\n",
       "      <td>SAUDI ARABIA</td>\n",
       "      <td>Online</td>\n",
       "      <td>1</td>\n",
       "      <td>34.0</td>\n",
       "      <td>Cancellation Plan</td>\n",
       "      <td>0</td>\n",
       "      <td>Adult</td>\n",
       "      <td>0.000000</td>\n",
       "      <td>(4) No Risk Countries</td>\n",
       "    </tr>\n",
       "    <tr>\n",
       "      <th>4</th>\n",
       "      <td>14381</td>\n",
       "      <td>26.0</td>\n",
       "      <td>CWT</td>\n",
       "      <td>Travel Agency</td>\n",
       "      <td>23.76</td>\n",
       "      <td>THAILAND</td>\n",
       "      <td>Online</td>\n",
       "      <td>33</td>\n",
       "      <td>39.6</td>\n",
       "      <td>Rental Vehicle Excess Insurance</td>\n",
       "      <td>0</td>\n",
       "      <td>Adult</td>\n",
       "      <td>0.091330</td>\n",
       "      <td>(3) Low Risk - More than 1% Claimed</td>\n",
       "    </tr>\n",
       "  </tbody>\n",
       "</table>\n",
       "</div>"
      ],
      "text/plain": [
       "      ID   Age Agency    Agency Type  Commision (in value)    Destination  \\\n",
       "0  45341  28.0    C2B       Airlines                 28.13      SINGAPORE   \n",
       "1  12958  37.0    JZI       Airlines                 12.95    PHILIPPINES   \n",
       "2  18233  27.0    EPX  Travel Agency                  0.00  UNITED STATES   \n",
       "3  31742  36.0    EPX  Travel Agency                  0.00   SAUDI ARABIA   \n",
       "4  14381  26.0    CWT  Travel Agency                 23.76       THAILAND   \n",
       "\n",
       "  Distribution Channel  Duration  Net Sales                     Product Name  \\\n",
       "0               Online        34      112.5                      Silver Plan   \n",
       "1               Online        53       37.0                       Basic Plan   \n",
       "2               Online        28       13.0                Cancellation Plan   \n",
       "3               Online         1       34.0                Cancellation Plan   \n",
       "4               Online        33       39.6  Rental Vehicle Excess Insurance   \n",
       "\n",
       "   Claim Age Group  Destination_risk                        Risk of Countries  \n",
       "0      1     Adult          0.427905    (1) High Risk - More than 30% Claimed  \n",
       "1      0     Adult          0.052657      (3) Low Risk - More than 1% Claimed  \n",
       "2      0     Adult          0.206539  (2) Medium Risk - More than 20% Claimed  \n",
       "3      0     Adult          0.000000                    (4) No Risk Countries  \n",
       "4      0     Adult          0.091330      (3) Low Risk - More than 1% Claimed  "
      ]
     },
     "execution_count": 34,
     "metadata": {},
     "output_type": "execute_result"
    }
   ],
   "source": [
    "travel.head(5)"
   ]
  },
  {
   "cell_type": "markdown",
   "metadata": {},
   "source": [
    "# Feature Engineering"
   ]
  },
  {
   "cell_type": "code",
   "execution_count": 35,
   "metadata": {},
   "outputs": [
    {
     "data": {
      "text/html": [
       "<div>\n",
       "<style scoped>\n",
       "    .dataframe tbody tr th:only-of-type {\n",
       "        vertical-align: middle;\n",
       "    }\n",
       "\n",
       "    .dataframe tbody tr th {\n",
       "        vertical-align: top;\n",
       "    }\n",
       "\n",
       "    .dataframe thead th {\n",
       "        text-align: right;\n",
       "    }\n",
       "</style>\n",
       "<table border=\"1\" class=\"dataframe\">\n",
       "  <thead>\n",
       "    <tr style=\"text-align: right;\">\n",
       "      <th></th>\n",
       "      <th>ID</th>\n",
       "      <th>Age</th>\n",
       "      <th>Agency</th>\n",
       "      <th>Agency Type</th>\n",
       "      <th>Commision (in value)</th>\n",
       "      <th>Destination</th>\n",
       "      <th>Distribution Channel</th>\n",
       "      <th>Duration</th>\n",
       "      <th>Net Sales</th>\n",
       "      <th>Product Name</th>\n",
       "      <th>Claim</th>\n",
       "      <th>Age Group</th>\n",
       "      <th>Destination_risk</th>\n",
       "      <th>Risk of Countries</th>\n",
       "    </tr>\n",
       "  </thead>\n",
       "  <tbody>\n",
       "    <tr>\n",
       "      <th>0</th>\n",
       "      <td>45341</td>\n",
       "      <td>28.0</td>\n",
       "      <td>C2B</td>\n",
       "      <td>Airlines</td>\n",
       "      <td>28.13</td>\n",
       "      <td>SINGAPORE</td>\n",
       "      <td>Online</td>\n",
       "      <td>34</td>\n",
       "      <td>112.5</td>\n",
       "      <td>Silver Plan</td>\n",
       "      <td>1</td>\n",
       "      <td>Adult</td>\n",
       "      <td>0.427905</td>\n",
       "      <td>(1) High Risk - More than 30% Claimed</td>\n",
       "    </tr>\n",
       "  </tbody>\n",
       "</table>\n",
       "</div>"
      ],
      "text/plain": [
       "      ID   Age Agency Agency Type  Commision (in value) Destination  \\\n",
       "0  45341  28.0    C2B    Airlines                 28.13   SINGAPORE   \n",
       "\n",
       "  Distribution Channel  Duration  Net Sales Product Name  Claim Age Group  \\\n",
       "0               Online        34      112.5  Silver Plan      1     Adult   \n",
       "\n",
       "   Destination_risk                      Risk of Countries  \n",
       "0          0.427905  (1) High Risk - More than 30% Claimed  "
      ]
     },
     "execution_count": 35,
     "metadata": {},
     "output_type": "execute_result"
    }
   ],
   "source": [
    "travel.head(1)"
   ]
  },
  {
   "cell_type": "code",
   "execution_count": 36,
   "metadata": {},
   "outputs": [],
   "source": [
    "def feature_processing(df):\n",
    "    # Converting all categorical columns into numeric using frequency encoding, label encoding and one-hot encoding.\n",
    "    fe = df.groupby('Destination').size()/len(df)\n",
    "    df.loc[:,'Dest_fe'] = df['Destination'].map(fe)\n",
    "    fe_1 = df.groupby('Agency').size()/len(df)\n",
    "    df.loc[:,'Agency_fe'] = df['Agency'].map(fe_1)\n",
    "    fe_2 = df.groupby('Product Name').size()/len(df)    \n",
    "    df.loc[:,'Product Name_fe'] = df['Product Name'].map(fe_2)\n",
    "    df.drop(columns='Agency',axis=1,inplace=True)\n",
    "    df.drop(columns='Destination',axis=1,inplace=True)\n",
    "    df.drop(columns='Product Name',axis=1,inplace=True)\n",
    "    df.drop(columns='Age Group',axis=1,inplace=True)\n",
    "    df = pd.get_dummies(df, columns=['Agency Type','Distribution Channel'], drop_first=True)"
   ]
  },
  {
   "cell_type": "code",
   "execution_count": 37,
   "metadata": {},
   "outputs": [],
   "source": [
    "feature_processing(travel)"
   ]
  },
  {
   "cell_type": "code",
   "execution_count": 38,
   "metadata": {},
   "outputs": [
    {
     "data": {
      "text/html": [
       "<div>\n",
       "<style scoped>\n",
       "    .dataframe tbody tr th:only-of-type {\n",
       "        vertical-align: middle;\n",
       "    }\n",
       "\n",
       "    .dataframe tbody tr th {\n",
       "        vertical-align: top;\n",
       "    }\n",
       "\n",
       "    .dataframe thead th {\n",
       "        text-align: right;\n",
       "    }\n",
       "</style>\n",
       "<table border=\"1\" class=\"dataframe\">\n",
       "  <thead>\n",
       "    <tr style=\"text-align: right;\">\n",
       "      <th></th>\n",
       "      <th>ID</th>\n",
       "      <th>Age</th>\n",
       "      <th>Agency Type</th>\n",
       "      <th>Commision (in value)</th>\n",
       "      <th>Distribution Channel</th>\n",
       "      <th>Duration</th>\n",
       "      <th>Net Sales</th>\n",
       "      <th>Claim</th>\n",
       "      <th>Destination_risk</th>\n",
       "      <th>Risk of Countries</th>\n",
       "      <th>Dest_fe</th>\n",
       "      <th>Agency_fe</th>\n",
       "      <th>Product Name_fe</th>\n",
       "    </tr>\n",
       "  </thead>\n",
       "  <tbody>\n",
       "    <tr>\n",
       "      <th>0</th>\n",
       "      <td>45341</td>\n",
       "      <td>28.0</td>\n",
       "      <td>Airlines</td>\n",
       "      <td>28.13</td>\n",
       "      <td>Online</td>\n",
       "      <td>34</td>\n",
       "      <td>112.5</td>\n",
       "      <td>1</td>\n",
       "      <td>0.427905</td>\n",
       "      <td>(1) High Risk - More than 30% Claimed</td>\n",
       "      <td>0.285705</td>\n",
       "      <td>0.218469</td>\n",
       "      <td>0.058535</td>\n",
       "    </tr>\n",
       "    <tr>\n",
       "      <th>1</th>\n",
       "      <td>12958</td>\n",
       "      <td>37.0</td>\n",
       "      <td>Airlines</td>\n",
       "      <td>12.95</td>\n",
       "      <td>Online</td>\n",
       "      <td>53</td>\n",
       "      <td>37.0</td>\n",
       "      <td>0</td>\n",
       "      <td>0.052657</td>\n",
       "      <td>(3) Low Risk - More than 1% Claimed</td>\n",
       "      <td>0.032928</td>\n",
       "      <td>0.086951</td>\n",
       "      <td>0.074894</td>\n",
       "    </tr>\n",
       "    <tr>\n",
       "      <th>2</th>\n",
       "      <td>18233</td>\n",
       "      <td>27.0</td>\n",
       "      <td>Travel Agency</td>\n",
       "      <td>0.00</td>\n",
       "      <td>Online</td>\n",
       "      <td>28</td>\n",
       "      <td>13.0</td>\n",
       "      <td>0</td>\n",
       "      <td>0.206539</td>\n",
       "      <td>(2) Medium Risk - More than 20% Claimed</td>\n",
       "      <td>0.040265</td>\n",
       "      <td>0.488296</td>\n",
       "      <td>0.246500</td>\n",
       "    </tr>\n",
       "    <tr>\n",
       "      <th>3</th>\n",
       "      <td>31742</td>\n",
       "      <td>36.0</td>\n",
       "      <td>Travel Agency</td>\n",
       "      <td>0.00</td>\n",
       "      <td>Online</td>\n",
       "      <td>1</td>\n",
       "      <td>34.0</td>\n",
       "      <td>0</td>\n",
       "      <td>0.000000</td>\n",
       "      <td>(4) No Risk Countries</td>\n",
       "      <td>0.000819</td>\n",
       "      <td>0.488296</td>\n",
       "      <td>0.246500</td>\n",
       "    </tr>\n",
       "    <tr>\n",
       "      <th>4</th>\n",
       "      <td>14381</td>\n",
       "      <td>26.0</td>\n",
       "      <td>Travel Agency</td>\n",
       "      <td>23.76</td>\n",
       "      <td>Online</td>\n",
       "      <td>33</td>\n",
       "      <td>39.6</td>\n",
       "      <td>0</td>\n",
       "      <td>0.091330</td>\n",
       "      <td>(3) Low Risk - More than 1% Claimed</td>\n",
       "      <td>0.083146</td>\n",
       "      <td>0.127729</td>\n",
       "      <td>0.127729</td>\n",
       "    </tr>\n",
       "  </tbody>\n",
       "</table>\n",
       "</div>"
      ],
      "text/plain": [
       "      ID   Age    Agency Type  Commision (in value) Distribution Channel  \\\n",
       "0  45341  28.0       Airlines                 28.13               Online   \n",
       "1  12958  37.0       Airlines                 12.95               Online   \n",
       "2  18233  27.0  Travel Agency                  0.00               Online   \n",
       "3  31742  36.0  Travel Agency                  0.00               Online   \n",
       "4  14381  26.0  Travel Agency                 23.76               Online   \n",
       "\n",
       "   Duration  Net Sales  Claim  Destination_risk  \\\n",
       "0        34      112.5      1          0.427905   \n",
       "1        53       37.0      0          0.052657   \n",
       "2        28       13.0      0          0.206539   \n",
       "3         1       34.0      0          0.000000   \n",
       "4        33       39.6      0          0.091330   \n",
       "\n",
       "                         Risk of Countries   Dest_fe  Agency_fe  \\\n",
       "0    (1) High Risk - More than 30% Claimed  0.285705   0.218469   \n",
       "1      (3) Low Risk - More than 1% Claimed  0.032928   0.086951   \n",
       "2  (2) Medium Risk - More than 20% Claimed  0.040265   0.488296   \n",
       "3                    (4) No Risk Countries  0.000819   0.488296   \n",
       "4      (3) Low Risk - More than 1% Claimed  0.083146   0.127729   \n",
       "\n",
       "   Product Name_fe  \n",
       "0         0.058535  \n",
       "1         0.074894  \n",
       "2         0.246500  \n",
       "3         0.246500  \n",
       "4         0.127729  "
      ]
     },
     "execution_count": 38,
     "metadata": {},
     "output_type": "execute_result"
    }
   ],
   "source": [
    "travel.head(5)"
   ]
  },
  {
   "cell_type": "code",
   "execution_count": 40,
   "metadata": {},
   "outputs": [],
   "source": [
    "travel.drop(columns=['Risk of Countries'],axis=1,inplace=True)"
   ]
  },
  {
   "cell_type": "code",
   "execution_count": 41,
   "metadata": {},
   "outputs": [],
   "source": [
    "travel.drop(columns=['Destination_risk'],axis=1,inplace=True)"
   ]
  },
  {
   "cell_type": "code",
   "execution_count": 42,
   "metadata": {
    "scrolled": true
   },
   "outputs": [],
   "source": [
    "travel = pd.get_dummies(travel, columns=['Agency Type','Distribution Channel'], drop_first=True)"
   ]
  },
  {
   "cell_type": "code",
   "execution_count": 43,
   "metadata": {},
   "outputs": [
    {
     "data": {
      "text/html": [
       "<div>\n",
       "<style scoped>\n",
       "    .dataframe tbody tr th:only-of-type {\n",
       "        vertical-align: middle;\n",
       "    }\n",
       "\n",
       "    .dataframe tbody tr th {\n",
       "        vertical-align: top;\n",
       "    }\n",
       "\n",
       "    .dataframe thead th {\n",
       "        text-align: right;\n",
       "    }\n",
       "</style>\n",
       "<table border=\"1\" class=\"dataframe\">\n",
       "  <thead>\n",
       "    <tr style=\"text-align: right;\">\n",
       "      <th></th>\n",
       "      <th>ID</th>\n",
       "      <th>Age</th>\n",
       "      <th>Commision (in value)</th>\n",
       "      <th>Duration</th>\n",
       "      <th>Net Sales</th>\n",
       "      <th>Claim</th>\n",
       "      <th>Dest_fe</th>\n",
       "      <th>Agency_fe</th>\n",
       "      <th>Product Name_fe</th>\n",
       "      <th>Agency Type_Travel Agency</th>\n",
       "      <th>Distribution Channel_Online</th>\n",
       "    </tr>\n",
       "  </thead>\n",
       "  <tbody>\n",
       "    <tr>\n",
       "      <th>0</th>\n",
       "      <td>45341</td>\n",
       "      <td>28.0</td>\n",
       "      <td>28.13</td>\n",
       "      <td>34</td>\n",
       "      <td>112.5</td>\n",
       "      <td>1</td>\n",
       "      <td>0.285705</td>\n",
       "      <td>0.218469</td>\n",
       "      <td>0.058535</td>\n",
       "      <td>0</td>\n",
       "      <td>1</td>\n",
       "    </tr>\n",
       "    <tr>\n",
       "      <th>1</th>\n",
       "      <td>12958</td>\n",
       "      <td>37.0</td>\n",
       "      <td>12.95</td>\n",
       "      <td>53</td>\n",
       "      <td>37.0</td>\n",
       "      <td>0</td>\n",
       "      <td>0.032928</td>\n",
       "      <td>0.086951</td>\n",
       "      <td>0.074894</td>\n",
       "      <td>0</td>\n",
       "      <td>1</td>\n",
       "    </tr>\n",
       "    <tr>\n",
       "      <th>2</th>\n",
       "      <td>18233</td>\n",
       "      <td>27.0</td>\n",
       "      <td>0.00</td>\n",
       "      <td>28</td>\n",
       "      <td>13.0</td>\n",
       "      <td>0</td>\n",
       "      <td>0.040265</td>\n",
       "      <td>0.488296</td>\n",
       "      <td>0.246500</td>\n",
       "      <td>1</td>\n",
       "      <td>1</td>\n",
       "    </tr>\n",
       "    <tr>\n",
       "      <th>3</th>\n",
       "      <td>31742</td>\n",
       "      <td>36.0</td>\n",
       "      <td>0.00</td>\n",
       "      <td>1</td>\n",
       "      <td>34.0</td>\n",
       "      <td>0</td>\n",
       "      <td>0.000819</td>\n",
       "      <td>0.488296</td>\n",
       "      <td>0.246500</td>\n",
       "      <td>1</td>\n",
       "      <td>1</td>\n",
       "    </tr>\n",
       "    <tr>\n",
       "      <th>4</th>\n",
       "      <td>14381</td>\n",
       "      <td>26.0</td>\n",
       "      <td>23.76</td>\n",
       "      <td>33</td>\n",
       "      <td>39.6</td>\n",
       "      <td>0</td>\n",
       "      <td>0.083146</td>\n",
       "      <td>0.127729</td>\n",
       "      <td>0.127729</td>\n",
       "      <td>1</td>\n",
       "      <td>1</td>\n",
       "    </tr>\n",
       "  </tbody>\n",
       "</table>\n",
       "</div>"
      ],
      "text/plain": [
       "      ID   Age  Commision (in value)  Duration  Net Sales  Claim   Dest_fe  \\\n",
       "0  45341  28.0                 28.13        34      112.5      1  0.285705   \n",
       "1  12958  37.0                 12.95        53       37.0      0  0.032928   \n",
       "2  18233  27.0                  0.00        28       13.0      0  0.040265   \n",
       "3  31742  36.0                  0.00         1       34.0      0  0.000819   \n",
       "4  14381  26.0                 23.76        33       39.6      0  0.083146   \n",
       "\n",
       "   Agency_fe  Product Name_fe  Agency Type_Travel Agency  \\\n",
       "0   0.218469         0.058535                          0   \n",
       "1   0.086951         0.074894                          0   \n",
       "2   0.488296         0.246500                          1   \n",
       "3   0.488296         0.246500                          1   \n",
       "4   0.127729         0.127729                          1   \n",
       "\n",
       "   Distribution Channel_Online  \n",
       "0                            1  \n",
       "1                            1  \n",
       "2                            1  \n",
       "3                            1  \n",
       "4                            1  "
      ]
     },
     "execution_count": 43,
     "metadata": {},
     "output_type": "execute_result"
    }
   ],
   "source": [
    "travel.head(5)"
   ]
  },
  {
   "cell_type": "markdown",
   "metadata": {},
   "source": [
    "# Preparing and training a baseline model."
   ]
  },
  {
   "cell_type": "code",
   "execution_count": 44,
   "metadata": {},
   "outputs": [],
   "source": [
    "X = travel.drop('Claim', axis = 1)\n",
    "Y = travel['Claim']"
   ]
  },
  {
   "cell_type": "code",
   "execution_count": 46,
   "metadata": {},
   "outputs": [],
   "source": [
    "# Multi colinearity detection\n",
    "def plot_heatmap(df, fig_size=(10, 7)):\n",
    "    fig = plt.figure(figsize=fig_size)\n",
    "    sns.heatmap(df.corr(), annot=True)\n",
    "    plt.title('Heatmap for detecting multicollinearity', fontsize=16, color='navy')\n",
    "    plt.show()"
   ]
  },
  {
   "cell_type": "code",
   "execution_count": 47,
   "metadata": {},
   "outputs": [
    {
     "data": {
      "image/png": "[encoded data removed]",
      "text/plain": [
       "<Figure size 720x504 with 2 Axes>"
      ]
     },
     "metadata": {
      "needs_background": "light"
     },
     "output_type": "display_data"
    }
   ],
   "source": [
    "plot_heatmap(X)"
   ]
  },
  {
   "cell_type": "markdown",
   "metadata": {},
   "source": [
    "# Inference-\n",
    "    \n",
    "   From the above heat-map we can see that there is not a high co-relation between any features and hence we can continue with all of the above features to train our model."
   ]
  },
  {
   "cell_type": "markdown",
   "metadata": {},
   "source": [
    "# Train-Test Split"
   ]
  },
  {
   "cell_type": "code",
   "execution_count": 48,
   "metadata": {},
   "outputs": [],
   "source": [
    "X_train, X_test, Y_train, Y_test = train_test_split(X,Y, train_size = 0.7, random_state = 7)"
   ]
  },
  {
   "cell_type": "markdown",
   "metadata": {},
   "source": [
    "# Random Forest Classifier."
   ]
  },
  {
   "cell_type": "code",
   "execution_count": 49,
   "metadata": {
    "scrolled": true
   },
   "outputs": [
    {
     "name": "stderr",
     "output_type": "stream",
     "text": [
      "C:\\Users\\athar\\Anaconda3\\lib\\site-packages\\sklearn\\ensemble\\forest.py:245: FutureWarning: The default value of n_estimators will change from 10 in version 0.20 to 100 in 0.22.\n",
      "  \"10 in version 0.20 to 100 in 0.22.\", FutureWarning)\n"
     ]
    },
    {
     "name": "stdout",
     "output_type": "stream",
     "text": [
      "0.9935249103654947\n",
      "              precision    recall  f1-score   support\n",
      "\n",
      "           0       1.00      0.99      1.00     14972\n",
      "           1       0.97      1.00      0.98      3715\n",
      "\n",
      "    accuracy                           0.99     18687\n",
      "   macro avg       0.98      1.00      0.99     18687\n",
      "weighted avg       0.99      0.99      0.99     18687\n",
      "\n"
     ]
    }
   ],
   "source": [
    "rf = RandomForestClassifier()\n",
    "rf.fit(X_train, Y_train)\n",
    "y_pred_rf = rf.predict(X_test)\n",
    "print(accuracy_score(Y_test, y_pred_rf))\n",
    "print(classification_report(Y_test, y_pred_rf))"
   ]
  },
  {
   "cell_type": "markdown",
   "metadata": {},
   "source": [
    "# Logistic Regression"
   ]
  },
  {
   "cell_type": "code",
   "execution_count": 50,
   "metadata": {},
   "outputs": [
    {
     "name": "stderr",
     "output_type": "stream",
     "text": [
      "C:\\Users\\athar\\Anaconda3\\lib\\site-packages\\sklearn\\linear_model\\logistic.py:432: FutureWarning: Default solver will be changed to 'lbfgs' in 0.22. Specify a solver to silence this warning.\n",
      "  FutureWarning)\n"
     ]
    },
    {
     "name": "stdout",
     "output_type": "stream",
     "text": [
      "0.8175737143468722\n",
      "              precision    recall  f1-score   support\n",
      "\n",
      "           0       0.83      0.97      0.90     14972\n",
      "           1       0.64      0.19      0.29      3715\n",
      "\n",
      "    accuracy                           0.82     18687\n",
      "   macro avg       0.73      0.58      0.59     18687\n",
      "weighted avg       0.79      0.82      0.78     18687\n",
      "\n"
     ]
    }
   ],
   "source": [
    "logr = LogisticRegression()\n",
    "logr.fit(X_train,Y_train)\n",
    "y_pred = logr.predict(X_test)\n",
    "print(accuracy_score(Y_test, y_pred))\n",
    "print(classification_report(Y_test, y_pred))"
   ]
  },
  {
   "cell_type": "markdown",
   "metadata": {},
   "source": [
    "# Conclusion -\n",
    "\n",
    "  In the above project we used Machine Learning to predict whether a person would claim his/her travel insurance and built a baseline model using Random Forest Classifier and Logistic Regression. A fair amount of exploratory data analysis has also beend done on the dataset which helped us gain various insights on the given data and helped us in feature engineering . More emphasis on feature selection can be done further down the road but I stopped at the baseline as the results for precision and recall were pretty good. "
   ]
  },
  {
   "cell_type": "code",
   "execution_count": null,
   "metadata": {},
   "outputs": [],
   "source": []
  }
 ],
 "metadata": {
  "kernelspec": {
   "display_name": "Python 3",
   "language": "python",
   "name": "python3"
  },
  "language_info": {
   "codemirror_mode": {
    "name": "ipython",
    "version": 3
   },
   "file_extension": ".py",
   "mimetype": "text/x-python",
   "name": "python",
   "nbconvert_exporter": "python",
   "pygments_lexer": "ipython3",
   "version": "3.7.3"
  }
 },
 "nbformat": 4,
 "nbformat_minor": 2
}
